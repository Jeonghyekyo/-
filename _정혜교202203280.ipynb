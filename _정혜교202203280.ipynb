{
  "nbformat": 4,
  "nbformat_minor": 0,
  "metadata": {
    "colab": {
      "provenance": [],
      "collapsed_sections": [],
      "authorship_tag": "ABX9TyNdgRak4oDZlnLq1ailHuiZ",
      "include_colab_link": true
    },
    "kernelspec": {
      "name": "python3",
      "display_name": "Python 3"
    },
    "language_info": {
      "name": "python"
    }
  },
  "cells": [
    {
      "cell_type": "markdown",
      "metadata": {
        "id": "view-in-github",
        "colab_type": "text"
      },
      "source": [
        "<a href=\"https://colab.research.google.com/github/Jeonghyekyo/GITHUBE_JEONGHYEKYO/blob/main/_%EC%A0%95%ED%98%9C%EA%B5%90202203280.ipynb\" target=\"_parent\"><img src=\"https://colab.research.google.com/assets/colab-badge.svg\" alt=\"Open In Colab\"/></a>"
      ]
    },
    {
      "cell_type": "code",
      "execution_count": null,
      "metadata": {
        "colab": {
          "base_uri": "https://localhost:8080/"
        },
        "id": "8Mdqy9cw0SVC",
        "outputId": "664f0f19-5479-435a-c526-9d829f55c9b8"
      },
      "outputs": [
        {
          "output_type": "stream",
          "name": "stdout",
          "text": [
            "3\n"
          ]
        }
      ],
      "source": [
        "#정혜교 202203280\n",
        "a=1\n",
        "b=2\n",
        "print(a+b)"
      ]
    },
    {
      "cell_type": "code",
      "source": [
        "x = int(input())\n",
        "\n",
        "result = ''\n",
        "\n",
        "if x > 30 :\n",
        "    print('너무많다')\n",
        "\n",
        "else :\n",
        "  for i in range (1,x+1,1):\n",
        "      result += str(i)\n",
        "      print(result)"
      ],
      "metadata": {
        "colab": {
          "base_uri": "https://localhost:8080/"
        },
        "id": "8idmiN2c1Mmj",
        "outputId": "f18d3953-c05d-48cb-cf09-362af7ce1041"
      },
      "execution_count": null,
      "outputs": [
        {
          "output_type": "stream",
          "name": "stdout",
          "text": [
            "6\n",
            "1\n",
            "12\n",
            "123\n",
            "1234\n",
            "12345\n",
            "123456\n"
          ]
        }
      ]
    },
    {
      "cell_type": "code",
      "source": [
        "#정혜교 202203280\n",
        "x = int(input())\n",
        "\n",
        "result = ''\n",
        "\n",
        "if x > 30 :\n",
        "    print('너무많다')\n",
        "\n",
        "else :\n",
        "  for i in range (1,x+1,1):\n",
        "      result += str(i)\n",
        "      print(result)"
      ],
      "metadata": {
        "colab": {
          "base_uri": "https://localhost:8080/"
        },
        "id": "dOZYfKETOhiC",
        "outputId": "6a76e068-5026-4112-afcc-f4be88c8a9a9"
      },
      "execution_count": null,
      "outputs": [
        {
          "output_type": "stream",
          "name": "stdout",
          "text": [
            "31\n",
            "너무많다\n"
          ]
        }
      ]
    },
    {
      "cell_type": "code",
      "source": [
        "#정혜교 202203280\n",
        "\n",
        "result = ''\n",
        "\n",
        "x = input()\n",
        "\n",
        "if not x.isdecimal() : print('정수를 입력하세요')\n",
        "\n",
        "else :\n",
        "  x = int(x)\n",
        "  if x > 30 : print('너무많다')\n",
        "  else :\n",
        "    for i in range(1,x+1,1) :\n",
        "      result += str(i)\n",
        "      print(result)"
      ],
      "metadata": {
        "colab": {
          "base_uri": "https://localhost:8080/"
        },
        "id": "rmOoU4fGIOtc",
        "outputId": "2d3ce1b2-40d2-4133-9c70-55150e523718"
      },
      "execution_count": null,
      "outputs": [
        {
          "output_type": "stream",
          "name": "stdout",
          "text": [
            "abcd\n",
            "정수를 입력하세요\n"
          ]
        }
      ]
    }
  ]
}